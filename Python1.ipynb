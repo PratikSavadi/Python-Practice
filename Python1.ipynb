{
 "cells": [
  {
   "cell_type": "code",
   "execution_count": 9,
   "metadata": {},
   "outputs": [
    {
     "name": "stdout",
     "output_type": "stream",
     "text": [
      "21\n",
      "42\n",
      "63\n",
      "84\n",
      "105\n",
      "126\n",
      "147\n",
      "168\n",
      "189\n",
      "210\n"
     ]
    }
   ],
   "source": [
    "#1.Write a function that inputs a number and prints the multiplication table of that number\n",
    "def multiply(a):\n",
    "    for i in range(1,11):\n",
    "        print (a*i)\n",
    "multiply(21)"
   ]
  },
  {
   "cell_type": "code",
   "execution_count": 9,
   "metadata": {},
   "outputs": [
    {
     "name": "stdout",
     "output_type": "stream",
     "text": [
      "The Prime numbers are:[2, 3, 5, 7, 11, 13, 17, 19, 23, 29, 31, 37, 41, 43, 47, 53, 59, 61, 67, 71, 73, 79, 83, 89, 97, 101, 103, 107, 109, 113, 127, 131, 137, 139, 149, 151, 157, 163, 167, 173, 179, 181, 191, 193, 197, 199, 211, 223, 227, 229, 233, 239, 241, 251, 257, 263, 269, 271, 277, 281, 283, 293, 307, 311, 313, 317, 331, 337, 347, 349, 353, 359, 367, 373, 379, 383, 389, 397, 401, 409, 419, 421, 431, 433, 439, 443, 449, 457, 461, 463, 467, 479, 487, 491, 499, 503, 509, 521, 523, 541, 547, 557, 563, 569, 571, 577, 587, 593, 599, 601, 607, 613, 617, 619, 631, 641, 643, 647, 653, 659, 661, 673, 677, 683, 691, 701, 709, 719, 727, 733, 739, 743, 751, 757, 761, 769, 773, 787, 797, 809, 811, 821, 823, 827, 829, 839, 853, 857, 859, 863, 877, 881, 883, 887, 907, 911, 919, 929, 937, 941, 947, 953, 967, 971, 977, 983, 991, 997]\n",
      "The Twinprime numbers are:[(3, 5), (5, 7), (11, 13), (17, 19), (29, 31), (41, 43), (59, 61), (71, 73), (101, 103), (107, 109), (137, 139), (149, 151), (179, 181), (191, 193), (197, 199), (227, 229), (239, 241), (269, 271), (281, 283), (311, 313), (347, 349), (419, 421), (431, 433), (461, 463), (521, 523), (569, 571), (599, 601), (617, 619), (641, 643), (659, 661), (809, 811), (821, 823), (827, 829), (857, 859), (881, 883)]\n"
     ]
    }
   ],
   "source": [
    "#2.Write a program to print twin primes less than 1000. If two consecutive odd numbers are both prime then they are known as twin primes\n",
    "\n",
    "import math\n",
    "def get_primes(lower, upper):\n",
    "    try:\n",
    "        prime = []\n",
    "        primenot=[]\n",
    "        for num in range(lower, upper):\n",
    "            for i in range(2, num):\n",
    "                if num % i == 0:\n",
    "                  primenot.append(num)\n",
    "            prime.append(num)\n",
    "            for a1 in (primenot):\n",
    "                for a2 in (prime):\n",
    "                    if a1!=a2 and a1%a2==0 and a1 in prime:\n",
    "                                prime.remove(a1)\n",
    "        if 1 in prime:\n",
    "            prime.remove(1)\n",
    "        print ('The Prime numbers are:'+str(prime))\n",
    "        primetwins = []\n",
    "        for i in range(0, len(prime) - 1):\n",
    "            if prime[i + 1] - prime[i] == 2:\n",
    "                primetwins.append((prime[i], prime[i + 1]))\n",
    "        print ('The Twinprime numbers are:'+str(primetwins))\n",
    "    except:\n",
    "        print ('please do not give lower value as 0')\n",
    "get_primes(1,1000)"
   ]
  },
  {
   "cell_type": "code",
   "execution_count": 10,
   "metadata": {},
   "outputs": [
    {
     "name": "stdout",
     "output_type": "stream",
     "text": [
      "[3, 5]\n"
     ]
    }
   ],
   "source": [
    "#3.Write a program to find out the prime factors of a number\n",
    "def primefactor(a):\n",
    "    i = 2\n",
    "    factors = []\n",
    "    while i <= a:\n",
    "        if (a % i) == 0:\n",
    "            factors.append(i)\n",
    "            a = a / i\n",
    "        else:\n",
    "            i = i + 1\n",
    "    print (factors)\n",
    "primefactor(15)"
   ]
  },
  {
   "cell_type": "code",
   "execution_count": 15,
   "metadata": {},
   "outputs": [
    {
     "name": "stdout",
     "output_type": "stream",
     "text": [
      "The permutation is:60.0\n",
      "The combination is:10.0\n"
     ]
    }
   ],
   "source": [
    "#4.Write a program to implement these formulae of permutations and combinations.\n",
    "    #Number of permutations of n objects taken r at a time\n",
    "\n",
    "def ncr(n,r):\n",
    "    a= 1\n",
    "    n=n\n",
    "    for i in range(2, n + 1):\n",
    "        a = a * i                # Calculating n factorial\n",
    "\n",
    "    a1= 1\n",
    "    r=r\n",
    "    for i in range(2, r + 1):\n",
    "        a1 = a1 * i               # Calculating r factorial\n",
    "\n",
    "    a2=1\n",
    "    nr=n-r\n",
    "    for i in range(2, nr + 1):\n",
    "        a2 = a2 * i               # Calculating n-r factorial\n",
    "\n",
    "\n",
    "    npr=a/a2                     # Calculating  permutaion\n",
    "    ncr=npr/a1                   # Calculating combination\n",
    "\n",
    "    print ('The permutation is:'+str(npr))\n",
    "    print ('The combination is:'+str(ncr))\n",
    "\n",
    "ncr(5,3)"
   ]
  },
  {
   "cell_type": "code",
   "execution_count": 16,
   "metadata": {},
   "outputs": [
    {
     "name": "stdout",
     "output_type": "stream",
     "text": [
      "(1, 0, 0, 0, 1)\n",
      "0b10001\n"
     ]
    }
   ],
   "source": [
    "#5.Write a function that converts a decimal number to binary number\n",
    "\n",
    "# using calculation\n",
    "l1=[]\n",
    "def decbinary(num):\n",
    "    if num >= 1:\n",
    "        decbinary(num // 2)\n",
    "        a=num % 2\n",
    "        l1.append(a)\n",
    "decbinary(17)\n",
    "print (tuple(l1))\n",
    "\n",
    "#using direct bin function\n",
    "def binary(num):\n",
    "    print (bin(num))\n",
    "binary(17)"
   ]
  },
  {
   "cell_type": "code",
   "execution_count": 17,
   "metadata": {},
   "outputs": [
    {
     "name": "stdout",
     "output_type": "stream",
     "text": [
      "The Armstrong no is:407\n",
      "407 is an Armstrong number\n"
     ]
    }
   ],
   "source": [
    "#6.Write a function cubesum() that accepts an integer and returns the sum of the cubes of\n",
    "    #individual digits of that number. Use this function to make functions PrintArmstrong() and\n",
    "    #isArmstrong() to print Armstrong numbers and to find whether is an Armstrong number\n",
    "\n",
    "def cubesum(n):\n",
    "    sum = 0\n",
    "    # num = 153\n",
    "    num1 = n\n",
    "    while num1 > 0:\n",
    "        digits = num1 % 10\n",
    "        sum += digits ** 3\n",
    "        num1 //= 10\n",
    "    return sum\n",
    "        # return sum\n",
    "\n",
    "\n",
    "def PrintArmstrong(num):\n",
    "       print ('The Armstrong no is:'+str(num))\n",
    "       return (cubesum(num))\n",
    "\n",
    "\n",
    "def isArmstrong(num):\n",
    "    sum=PrintArmstrong(num)\n",
    "\n",
    "    if num == sum:\n",
    "        print(num, \"is an Armstrong number\")\n",
    "    else:\n",
    "        print(num, \"is not an Armstrong number\")\n",
    "\n",
    "isArmstrong(407)\n"
   ]
  },
  {
   "cell_type": "code",
   "execution_count": 20,
   "metadata": {},
   "outputs": [
    {
     "name": "stdout",
     "output_type": "stream",
     "text": [
      "180\n"
     ]
    }
   ],
   "source": [
    "#7.Write a function prodDigits() that inputs a number and returns the product of digits of that number.\n",
    "\n",
    "def prodDigits(n):\n",
    "    prod = 1\n",
    "    num = str(n)\n",
    "    for i in num:\n",
    "        prod = prod * int(i)\n",
    "    print (prod)\n",
    "prodDigits(459)"
   ]
  },
  {
   "cell_type": "code",
   "execution_count": 1,
   "metadata": {},
   "outputs": [
    {
     "name": "stdout",
     "output_type": "stream",
     "text": [
      "The product of digits 48\n",
      "Multiplicative Digital Root  6\n",
      "Multiplicative Presistance  2\n"
     ]
    }
   ],
   "source": [
    "#8.Using the function prodDigits() of previous exercise write functions MDR() and MPersistence() that input a \n",
    "  # number and return its multiplicative digital root and multiplicative persistence respectively persistance of n\n",
    "def prodDigits(n):\n",
    "    prod = 1\n",
    "    num = str(n)\n",
    "    for i in num:\n",
    "        prod = prod * int(i)\n",
    "    print (\"The product of digits\",prod)\n",
    "    return prod\n",
    "\n",
    "def MDR(num):\n",
    "    n=prodDigits(num)\n",
    "    temp=n\n",
    "\n",
    "    c=0\n",
    "\n",
    "    while 1:\n",
    "\n",
    "      p=1\n",
    "\n",
    "      c=c+1\n",
    "\n",
    "      while temp!=0:\n",
    "\n",
    "         rem=temp%10\n",
    "\n",
    "         p=p*rem\n",
    "\n",
    "         temp=int(temp/10)\n",
    "\n",
    "      if p<10:\n",
    "         print(\"Multiplicative Digital Root \",p)\n",
    "\n",
    "         return c\n",
    "      temp=p\n",
    "def MPersistence(c):\n",
    "    c=MDR(c)\n",
    "    print(\"Multiplicative Presistance \",c)\n",
    "MPersistence(86)"
   ]
  },
  {
   "cell_type": "code",
   "execution_count": 3,
   "metadata": {},
   "outputs": [
    {
     "name": "stdout",
     "output_type": "stream",
     "text": [
      "The divisorlists are : [1, 2, 3, 4, 6, 9, 12, 18]\n",
      "The sum of divisorslist is 55\n"
     ]
    }
   ],
   "source": [
    "#9.Write a function sumPdivisors() that finds the sum of proper divisors of a number. Proper divisors of a number \n",
    "    #are those numbers by which the number is divisible, except the number itself.\n",
    "    \n",
    "def sumdivisors(n):\n",
    "    n=n\n",
    "    divsorlist=[]\n",
    "    for i in range(1,n+1):\n",
    "        if(n%i==0):\n",
    "            divsorlist.append(i)\n",
    "    if n in divsorlist:\n",
    "        divsorlist.remove(n)\n",
    "    print ('The divisorlists are :',divsorlist)\n",
    "    print ('The sum of divisorslist is',sum(divsorlist))\n",
    "\n",
    "sumdivisors(36)"
   ]
  },
  {
   "cell_type": "code",
   "execution_count": 4,
   "metadata": {},
   "outputs": [
    {
     "name": "stdout",
     "output_type": "stream",
     "text": [
      "Perfect number [6, 28]\n"
     ]
    }
   ],
   "source": [
    "#10.Write a program to print all the perfect numbers in a given range\n",
    "\n",
    "def sumdivisors(n1,n2):\n",
    "    perfectdivisorlist = []\n",
    "    for num in range(n1,n2):\n",
    "        n=num\n",
    "        divsorlist=[]\n",
    "        for i in range(1,n+1):\n",
    "            if(n%i==0):\n",
    "                divsorlist.append(i)\n",
    "        if n in divsorlist:\n",
    "            divsorlist.remove(n)\n",
    "        if n==sum(divsorlist):\n",
    "            perfectdivisorlist.append(n)\n",
    "    print ('Perfect number',perfectdivisorlist)\n",
    "\n",
    "sumdivisors(1,100)"
   ]
  },
  {
   "cell_type": "code",
   "execution_count": 5,
   "metadata": {},
   "outputs": [
    {
     "name": "stdout",
     "output_type": "stream",
     "text": [
      "The amicable numbers are 6 6\n",
      "The amicable numbers are 28 28\n",
      "The amicable numbers are 284 220\n",
      "The amicable numbers are 220 284\n",
      "The amicable numbers are 496 496\n"
     ]
    }
   ],
   "source": [
    "#11.Write a function to print pairs of amicable numbers in a range\n",
    "\n",
    "def amicabledivisors(n1,n2):\n",
    "    for num in range(n1, n2):\n",
    "        n=num\n",
    "        divsorlist=[]\n",
    "        for i in range(1,n+1):\n",
    "            if(n%i==0):\n",
    "                divsorlist.append(i)\n",
    "        if n in divsorlist:\n",
    "            divsorlist.remove(n)\n",
    "        divisorsum=sum(divsorlist)\n",
    "        n1=divisorsum\n",
    "        divsorlist1=[]\n",
    "        for i in range(1,n1+1):\n",
    "            if(n1%i==0):\n",
    "                divsorlist1.append(i)\n",
    "        if n1 in divsorlist1:\n",
    "            divsorlist1.remove(n1)\n",
    "        newdivisorsum=sum(divsorlist1)\n",
    "        if n== newdivisorsum:\n",
    "            print ('The amicable numbers are',divisorsum,newdivisorsum)\n",
    "amicabledivisors(1,500)"
   ]
  },
  {
   "cell_type": "code",
   "execution_count": 6,
   "metadata": {},
   "outputs": [
    {
     "name": "stdout",
     "output_type": "stream",
     "text": [
      "[1, 3, 5, 13]\n"
     ]
    }
   ],
   "source": [
    "#12.Write a program which can filter odd numbers in a list by using filter function\n",
    "\n",
    "l1 = [0, 1, 2, 3, 5, 8, 13]\n",
    "  \n",
    "# result contains odd numbers of the list\n",
    "result = filter(lambda x: x % 2 != 0, l1)\n",
    "print(list(result))"
   ]
  },
  {
   "cell_type": "code",
   "execution_count": 7,
   "metadata": {},
   "outputs": [
    {
     "name": "stdout",
     "output_type": "stream",
     "text": [
      "[1, 8, 27, 64, 125, 216, 343]\n"
     ]
    }
   ],
   "source": [
    "#13.Write a program which can map() to make a list whose elements are cube of elements in a given list\n",
    "\n",
    "def cube(x):\n",
    "    return x*x*x\n",
    "\n",
    "numbers = [1,2,3,4,5,6,7]\n",
    "cubes = map (cube, numbers)\n",
    "a=list(cubes)\n",
    "print (str (a))"
   ]
  },
  {
   "cell_type": "code",
   "execution_count": 41,
   "metadata": {},
   "outputs": [
    {
     "name": "stdout",
     "output_type": "stream",
     "text": [
      "[0, 2, 8]\n",
      "[0, 8, 512]\n"
     ]
    }
   ],
   "source": [
    "#14.Write a program which can map() and filter() to make a list whose elements are cube of even number in a given list\n",
    "\n",
    "l1 = [0, 1, 2, 3, 5, 8, 13]\n",
    "evenresult = filter(lambda x: x % 2 == 0, l1)\n",
    "a=list(evenresult)\n",
    "print(a)\n",
    "\n",
    "def cube(x):\n",
    "    return x*x*x\n",
    "evencubes = map (cube,a)\n",
    "print (list(evencubes))"
   ]
  },
  {
   "cell_type": "code",
   "execution_count": null,
   "metadata": {},
   "outputs": [],
   "source": []
  }
 ],
 "metadata": {
  "kernelspec": {
   "display_name": "Python 3",
   "language": "python",
   "name": "python3"
  },
  "language_info": {
   "codemirror_mode": {
    "name": "ipython",
    "version": 3
   },
   "file_extension": ".py",
   "mimetype": "text/x-python",
   "name": "python",
   "nbconvert_exporter": "python",
   "pygments_lexer": "ipython3",
   "version": "3.7.4"
  }
 },
 "nbformat": 4,
 "nbformat_minor": 2
}
